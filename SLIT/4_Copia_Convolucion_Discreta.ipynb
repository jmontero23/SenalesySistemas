{
  "nbformat": 4,
  "nbformat_minor": 0,
  "metadata": {
    "colab": {
      "provenance": [],
      "include_colab_link": true
    },
    "kernelspec": {
      "name": "python3",
      "display_name": "Python 3"
    },
    "widgets": {
      "application/vnd.jupyter.widget-state+json": {
        "f845d225097d4da8ba5b681dc5c267b2": {
          "model_module": "@jupyter-widgets/controls",
          "model_name": "VBoxModel",
          "model_module_version": "1.5.0",
          "state": {
            "_dom_classes": [
              "widget-interact"
            ],
            "_model_module": "@jupyter-widgets/controls",
            "_model_module_version": "1.5.0",
            "_model_name": "VBoxModel",
            "_view_count": null,
            "_view_module": "@jupyter-widgets/controls",
            "_view_module_version": "1.5.0",
            "_view_name": "VBoxView",
            "box_style": "",
            "children": [
              "IPY_MODEL_d66b5b4fe29a434cbe5a98ce063fec0c",
              "IPY_MODEL_6ebf6a3d92534611a6d41323800ef612"
            ],
            "layout": "IPY_MODEL_74d3b816dc9749109fb8b84b2f61b42d"
          }
        },
        "d66b5b4fe29a434cbe5a98ce063fec0c": {
          "model_module": "@jupyter-widgets/controls",
          "model_name": "IntSliderModel",
          "model_module_version": "1.5.0",
          "state": {
            "_dom_classes": [],
            "_model_module": "@jupyter-widgets/controls",
            "_model_module_version": "1.5.0",
            "_model_name": "IntSliderModel",
            "_view_count": null,
            "_view_module": "@jupyter-widgets/controls",
            "_view_module_version": "1.5.0",
            "_view_name": "IntSliderView",
            "continuous_update": true,
            "description": "k",
            "description_tooltip": null,
            "disabled": false,
            "layout": "IPY_MODEL_9e45ca806d53462b89c45dd1d95badbf",
            "max": 14,
            "min": 0,
            "orientation": "horizontal",
            "readout": true,
            "readout_format": "d",
            "step": 1,
            "style": "IPY_MODEL_a065463adbf64f56887e4fb33de645cd",
            "value": 1
          }
        },
        "6ebf6a3d92534611a6d41323800ef612": {
          "model_module": "@jupyter-widgets/output",
          "model_name": "OutputModel",
          "model_module_version": "1.0.0",
          "state": {
            "_dom_classes": [],
            "_model_module": "@jupyter-widgets/output",
            "_model_module_version": "1.0.0",
            "_model_name": "OutputModel",
            "_view_count": null,
            "_view_module": "@jupyter-widgets/output",
            "_view_module_version": "1.0.0",
            "_view_name": "OutputView",
            "layout": "IPY_MODEL_d4311d65471e4c78864289ead3576b4b",
            "msg_id": "7d0956fd-4221-4dd9-dfe6-4e0d9c91dd95",
            "outputs": [
              {
                "output_type": "display_data",
                "data": {
                  "text/plain": "<Figure size 640x480 with 1 Axes>",
                  "image/png": "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\n"
                },
                "metadata": {}
              }
            ]
          }
        },
        "74d3b816dc9749109fb8b84b2f61b42d": {
          "model_module": "@jupyter-widgets/base",
          "model_name": "LayoutModel",
          "model_module_version": "1.2.0",
          "state": {
            "_model_module": "@jupyter-widgets/base",
            "_model_module_version": "1.2.0",
            "_model_name": "LayoutModel",
            "_view_count": null,
            "_view_module": "@jupyter-widgets/base",
            "_view_module_version": "1.2.0",
            "_view_name": "LayoutView",
            "align_content": null,
            "align_items": null,
            "align_self": null,
            "border": null,
            "bottom": null,
            "display": null,
            "flex": null,
            "flex_flow": null,
            "grid_area": null,
            "grid_auto_columns": null,
            "grid_auto_flow": null,
            "grid_auto_rows": null,
            "grid_column": null,
            "grid_gap": null,
            "grid_row": null,
            "grid_template_areas": null,
            "grid_template_columns": null,
            "grid_template_rows": null,
            "height": null,
            "justify_content": null,
            "justify_items": null,
            "left": null,
            "margin": null,
            "max_height": null,
            "max_width": null,
            "min_height": null,
            "min_width": null,
            "object_fit": null,
            "object_position": null,
            "order": null,
            "overflow": null,
            "overflow_x": null,
            "overflow_y": null,
            "padding": null,
            "right": null,
            "top": null,
            "visibility": null,
            "width": null
          }
        },
        "9e45ca806d53462b89c45dd1d95badbf": {
          "model_module": "@jupyter-widgets/base",
          "model_name": "LayoutModel",
          "model_module_version": "1.2.0",
          "state": {
            "_model_module": "@jupyter-widgets/base",
            "_model_module_version": "1.2.0",
            "_model_name": "LayoutModel",
            "_view_count": null,
            "_view_module": "@jupyter-widgets/base",
            "_view_module_version": "1.2.0",
            "_view_name": "LayoutView",
            "align_content": null,
            "align_items": null,
            "align_self": null,
            "border": null,
            "bottom": null,
            "display": null,
            "flex": null,
            "flex_flow": null,
            "grid_area": null,
            "grid_auto_columns": null,
            "grid_auto_flow": null,
            "grid_auto_rows": null,
            "grid_column": null,
            "grid_gap": null,
            "grid_row": null,
            "grid_template_areas": null,
            "grid_template_columns": null,
            "grid_template_rows": null,
            "height": null,
            "justify_content": null,
            "justify_items": null,
            "left": null,
            "margin": null,
            "max_height": null,
            "max_width": null,
            "min_height": null,
            "min_width": null,
            "object_fit": null,
            "object_position": null,
            "order": null,
            "overflow": null,
            "overflow_x": null,
            "overflow_y": null,
            "padding": null,
            "right": null,
            "top": null,
            "visibility": null,
            "width": null
          }
        },
        "a065463adbf64f56887e4fb33de645cd": {
          "model_module": "@jupyter-widgets/controls",
          "model_name": "SliderStyleModel",
          "model_module_version": "1.5.0",
          "state": {
            "_model_module": "@jupyter-widgets/controls",
            "_model_module_version": "1.5.0",
            "_model_name": "SliderStyleModel",
            "_view_count": null,
            "_view_module": "@jupyter-widgets/base",
            "_view_module_version": "1.2.0",
            "_view_name": "StyleView",
            "description_width": "",
            "handle_color": null
          }
        },
        "d4311d65471e4c78864289ead3576b4b": {
          "model_module": "@jupyter-widgets/base",
          "model_name": "LayoutModel",
          "model_module_version": "1.2.0",
          "state": {
            "_model_module": "@jupyter-widgets/base",
            "_model_module_version": "1.2.0",
            "_model_name": "LayoutModel",
            "_view_count": null,
            "_view_module": "@jupyter-widgets/base",
            "_view_module_version": "1.2.0",
            "_view_name": "LayoutView",
            "align_content": null,
            "align_items": null,
            "align_self": null,
            "border": null,
            "bottom": null,
            "display": null,
            "flex": null,
            "flex_flow": null,
            "grid_area": null,
            "grid_auto_columns": null,
            "grid_auto_flow": null,
            "grid_auto_rows": null,
            "grid_column": null,
            "grid_gap": null,
            "grid_row": null,
            "grid_template_areas": null,
            "grid_template_columns": null,
            "grid_template_rows": null,
            "height": null,
            "justify_content": null,
            "justify_items": null,
            "left": null,
            "margin": null,
            "max_height": null,
            "max_width": null,
            "min_height": null,
            "min_width": null,
            "object_fit": null,
            "object_position": null,
            "order": null,
            "overflow": null,
            "overflow_x": null,
            "overflow_y": null,
            "padding": null,
            "right": null,
            "top": null,
            "visibility": null,
            "width": null
          }
        }
      }
    }
  },
  "cells": [
    {
      "cell_type": "markdown",
      "metadata": {
        "id": "view-in-github",
        "colab_type": "text"
      },
      "source": [
        "<a href=\"https://colab.research.google.com/github/jmontero23/SenalesySistemas/blob/main/SLIT/4_Copia_Convolucion_Discreta.ipynb\" target=\"_parent\"><img src=\"https://colab.research.google.com/assets/colab-badge.svg\" alt=\"Open In Colab\"/></a>"
      ]
    },
    {
      "cell_type": "markdown",
      "metadata": {
        "id": "ltZFXHh6H_8Z"
      },
      "source": [
        "# Convolución discreta y SLITs\n",
        "\n",
        "- A continuación se ilustra el proceso de convolución y respuesta al impulso para resolver sistemas lineales e invariantes en el tiempo (SLIT) discreto.\n",
        "\n",
        "- Dada la respuesta al impulso en tiempo discreto $h[n]\\in\\mathbb{R},\\mathbb{C}$ de un SLIT $\\mathsf{H}\\{\\cdot\\},$ la respuesta del sistema $y[n]\\in\\mathbb{R},\\mathbb{C}$ ante la entrada discreta $x[n]\\in\\mathbb{R},\\mathbb{C}$, se puede calcular mediante el operador convolución:\n",
        "\n",
        "$$y[n]=x[n]*h[n] = \\sum^\\infty_{k=-\\infty}x[k]h[n-k].$$\n",
        "\n",
        "- En general, se cuenta con vectores de tamaño finito, y con sistemas causales, por ende, si $x[n]$ cuenta con $N$ elementos y $h[n]$ con $L$ elementos, la salida $y[n]$ tendra, en el mejor de los casos, $M = N + L - 1$ elementos distintos de 0 (ver [interpretación gráfica convolución](https://en.wikipedia.org/wiki/Convolution)).\n",
        "\n",
        "\n",
        "**Ejemplo**\n",
        "\n",
        "- Se presenta la simulación del cálculo de la salida de un SLIT en tiempo discreto utilizando la respuesta al impulso y la convolución discreta implementando punto a punto el proceso de suma y comparando los resultados con la librería [convolve](https://numpy.org/doc/stable/reference/generated/numpy.convolve.html) de numpy."
      ]
    },
    {
      "cell_type": "code",
      "metadata": {
        "id": "XVcI_Xk2_U2Y"
      },
      "source": [
        "%matplotlib inline\n",
        "from ipywidgets import interact #crear graficos interactivos\n",
        "import numpy as np\n",
        "import matplotlib.pyplot as plt\n",
        "from scipy import signal #crear señales prototipo en tiempo discreto\n"
      ],
      "execution_count": null,
      "outputs": []
    },
    {
      "cell_type": "code",
      "metadata": {
        "id": "ckohmENyAH1j",
        "outputId": "9897b2c0-d557-4871-b900-6f1dbf43115b",
        "colab": {
          "base_uri": "https://localhost:8080/"
        }
      },
      "source": [
        "#crear señales\n",
        "#h = np.array([1,-2,0,1,-2]).reshape(-1,1)#np.r_[np.zeros((5,1)),np.ones((5,1)),np.zeros((5,1))] # se genera un pulso rectangular\n",
        "hu = np.array([-1,6,-10,3,1,-10,2,5])\n",
        "h = np.diff(hu).reshape(-1,1)\n",
        "x = np.array([-15,5,-3,0,5,7,-1]).reshape(-1,1)#signal.triang(12).reshape(-1,1) # se genera una señal triangular y se trabaja con arreglos tipo columna\n",
        "#funcion convolucion\n",
        "def convgraf(h,x): #función general para pintar proceso de convolución de forma interactiva\n",
        "   lx = len(x)\n",
        "   lh = len(h)\n",
        "   M = 2*lx+lh # se genera un vector de tamaño completo para visualizar todo el proceso paso a paso\n",
        "   xm = np.zeros((M,M))\n",
        "   hm = np.r_[np.zeros((lx,1)),h,np.zeros((lx,1))]\n",
        "   ym = np.zeros((M,M))\n",
        "   for i in range(M-lx+1):\n",
        "     #print(i)\n",
        "     xm[i:i+lx,i] = np.flip(x).reshape(-1)#filp realizar el proceso de reflejo sobre arreglos discretos\n",
        "     ym[i,i] = xm[:,i].T.dot(hm) #multiplicacion entre vectores -> producto punto\n",
        "   return xm, ym, hm\n",
        "\n",
        "def plot_conv(k,xm,ym,hm): #dibujar arreglos\n",
        "     plt.stem(xm[:,k],markerfmt='+',label='$x[k]$')\n",
        "     plt.stem(hm,linefmt='g',markerfmt='.',label='$h[n-k]$')\n",
        "     plt.stem(ym[:k,:].sum(axis=0),markerfmt='s',linefmt='r',label='$y[n]=\\sum^{\\infty}_{k=-\\infty}x[k]h[n-k]$')\n",
        "     plt.legend()\n",
        "     plt.show()\n",
        "     return\n",
        "\n",
        "xm, ym, hm = convgraf(h,x)"
      ],
      "execution_count": null,
      "outputs": [
        {
          "output_type": "stream",
          "name": "stderr",
          "text": [
            "<ipython-input-11-cc6bb610a07a>:17: DeprecationWarning: Conversion of an array with ndim > 0 to a scalar is deprecated, and will error in future. Ensure you extract a single element from your array before performing this operation. (Deprecated NumPy 1.25.)\n",
            "  ym[i,i] = xm[:,i].T.dot(hm) #multiplicacion entre vectores -> producto punto\n"
          ]
        }
      ]
    },
    {
      "cell_type": "code",
      "metadata": {
        "id": "-EPYt_Z2_M5e",
        "colab": {
          "base_uri": "https://localhost:8080/",
          "height": 462,
          "referenced_widgets": [
            "f845d225097d4da8ba5b681dc5c267b2",
            "d66b5b4fe29a434cbe5a98ce063fec0c",
            "6ebf6a3d92534611a6d41323800ef612",
            "74d3b816dc9749109fb8b84b2f61b42d",
            "9e45ca806d53462b89c45dd1d95badbf",
            "a065463adbf64f56887e4fb33de645cd",
            "d4311d65471e4c78864289ead3576b4b"
          ]
        },
        "outputId": "75193650-f8e8-4b2e-8871-29c4e7680872"
      },
      "source": [
        "#@interact(m=range(xm.shape[0]-len(x)+1)) #define panel tipo selección en el gráfico interactivo\n",
        "@interact(k=(0, xm.shape[0]-len(x), 1))\n",
        "def show_frame(k=0):\n",
        "    plot_conv(k,xm,ym,hm)\n",
        "plt.show()"
      ],
      "execution_count": null,
      "outputs": [
        {
          "output_type": "display_data",
          "data": {
            "text/plain": [
              "interactive(children=(IntSlider(value=0, description='k', max=14), Output()), _dom_classes=('widget-interact',…"
            ],
            "application/vnd.jupyter.widget-view+json": {
              "version_major": 2,
              "version_minor": 0,
              "model_id": "f845d225097d4da8ba5b681dc5c267b2"
            }
          },
          "metadata": {}
        }
      ]
    },
    {
      "cell_type": "markdown",
      "metadata": {
        "id": "gZvIFK0Qmrbu"
      },
      "source": [
        "**Nota**: Para resolver SLIT en tiempo discreto respecto a su respuesta escalón, puede utilizar el operador de derivada en tiempo discreto de numpy [diferencia discreta](https://numpy.org/doc/stable/reference/generated/numpy.diff.html) para estimar la respuesta al impulso $h[n]$ desde la respueta escalón $\\mathsf{H}\\{\\epsilon[n]\\}.$\n",
        "\n",
        "- El paquete numpy tiene implementado la convolución discreta (Ver [numpy.convolve](https://numpy.org/doc/stable/reference/generated/numpy.convolve.html))."
      ]
    },
    {
      "cell_type": "code",
      "metadata": {
        "id": "H1Dis0ruH4JV",
        "outputId": "1862e7b6-48d5-4e65-fb7f-c4aad8ed034a",
        "colab": {
          "base_uri": "https://localhost:8080/"
        }
      },
      "source": [
        "y_ = np.convolve(x.reshape(-1),h.reshape(-1))\n",
        "y_"
      ],
      "execution_count": null,
      "outputs": [
        {
          "output_type": "execute_result",
          "data": {
            "text/plain": [
              "array([-105,  275, -296,  143,  151, -260,   -6,   76,  -91,  -15,  110,\n",
              "          9,   -3])"
            ]
          },
          "metadata": {},
          "execution_count": 13
        }
      ]
    },
    {
      "cell_type": "code",
      "source": [],
      "metadata": {
        "id": "gs_n-vzvHLN-"
      },
      "execution_count": null,
      "outputs": []
    }
  ]
}