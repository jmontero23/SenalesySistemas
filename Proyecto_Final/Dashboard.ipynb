{
  "nbformat": 4,
  "nbformat_minor": 0,
  "metadata": {
    "colab": {
      "provenance": [],
      "include_colab_link": true
    },
    "kernelspec": {
      "name": "python3",
      "display_name": "Python 3"
    },
    "language_info": {
      "name": "python"
    }
  },
  "cells": [
    {
      "cell_type": "markdown",
      "metadata": {
        "id": "view-in-github",
        "colab_type": "text"
      },
      "source": [
        "<a href=\"https://colab.research.google.com/github/jmontero23/SenalesySistemas/blob/main/Proyecto_Final/Dashboard.ipynb\" target=\"_parent\"><img src=\"https://colab.research.google.com/assets/colab-badge.svg\" alt=\"Open In Colab\"/></a>"
      ]
    },
    {
      "cell_type": "code",
      "execution_count": null,
      "metadata": {
        "id": "P2jgvXF3K1sW",
        "colab": {
          "base_uri": "https://localhost:8080/"
        },
        "outputId": "e487db7e-bd73-4b30-d249-2f88c976c1ac"
      },
      "outputs": [
        {
          "output_type": "stream",
          "name": "stdout",
          "text": [
            "\u001b[2K     \u001b[90m━━━━━━━━━━━━━━━━━━━━━━━━━━━━━━━━━━━━━━━━\u001b[0m \u001b[32m44.3/44.3 kB\u001b[0m \u001b[31m2.4 MB/s\u001b[0m eta \u001b[36m0:00:00\u001b[0m\n",
            "\u001b[2K   \u001b[90m━━━━━━━━━━━━━━━━━━━━━━━━━━━━━━━━━━━━━━━━\u001b[0m \u001b[32m9.9/9.9 MB\u001b[0m \u001b[31m53.4 MB/s\u001b[0m eta \u001b[36m0:00:00\u001b[0m\n",
            "\u001b[2K   \u001b[90m━━━━━━━━━━━━━━━━━━━━━━━━━━━━━━━━━━━━━━━━\u001b[0m \u001b[32m6.9/6.9 MB\u001b[0m \u001b[31m59.9 MB/s\u001b[0m eta \u001b[36m0:00:00\u001b[0m\n",
            "\u001b[2K   \u001b[90m━━━━━━━━━━━━━━━━━━━━━━━━━━━━━━━━━━━━━━━━\u001b[0m \u001b[32m79.1/79.1 kB\u001b[0m \u001b[31m4.4 MB/s\u001b[0m eta \u001b[36m0:00:00\u001b[0m\n",
            "\u001b[?25h"
          ]
        }
      ],
      "source": [
        "!pip install streamlit -q\n",
        "!pip install pyngrok -q"
      ]
    },
    {
      "cell_type": "code",
      "source": [
        "%%writefile app.py\n",
        "import streamlit as st\n",
        "import numpy as np\n",
        "import matplotlib.pyplot as plt\n",
        "from scipy.signal import firwin, lfilter, hilbert, welch\n",
        "\n",
        "# --- CONFIGURACIÓN DE LA PÁGINA ---\n",
        "st.set_page_config(\n",
        "    page_title=\"De Fourier al WiFi/5G\",\n",
        "    page_icon=\"📡\",\n",
        "    layout=\"wide\",\n",
        "    initial_sidebar_state=\"expanded\"\n",
        ")\n",
        "\n",
        "# --- FUNCIONES AUXILIARES ---\n",
        "\n",
        "def plot_signal(t, signal, title, xlabel=\"Tiempo (s)\", ylabel=\"Amplitud\"):\n",
        "    fig, ax = plt.subplots(figsize=(10, 4))\n",
        "    ax.plot(t, signal)\n",
        "    ax.set_title(title, fontsize=16)\n",
        "    ax.set_xlabel(xlabel, fontsize=12)\n",
        "    ax.set_ylabel(ylabel, fontsize=12)\n",
        "    ax.grid(True)\n",
        "    ax.margins(x=0)\n",
        "    st.pyplot(fig)\n",
        "\n",
        "def plot_spectrum(signal, fs, title, nperseg=1024):\n",
        "    fig, ax = plt.subplots(figsize=(10, 4))\n",
        "    f, Pxx = welch(signal, fs, nperseg=nperseg)\n",
        "    ax.semilogy(f, Pxx)\n",
        "    ax.set_title(title, fontsize=16)\n",
        "    ax.set_xlabel(\"Frecuencia (Hz)\", fontsize=12)\n",
        "    ax.set_ylabel(\"Densidad Espectral de Potencia (V^2/Hz)\", fontsize=12)\n",
        "    ax.grid(True)\n",
        "    ax.margins(x=0)\n",
        "    st.pyplot(fig)\n",
        "\n",
        "def plot_constellation(symbols, title, order):\n",
        "    fig, ax = plt.subplots(figsize=(6, 6))\n",
        "    ax.scatter(np.real(symbols), np.imag(symbols), alpha=0.5, edgecolors='none')\n",
        "    ax.set_title(title, fontsize=16)\n",
        "    ax.set_xlabel(\"En Fase (I)\", fontsize=12)\n",
        "    ax.set_ylabel(\"Cuadratura (Q)\", fontsize=12)\n",
        "    ax.grid(True)\n",
        "    ax.axhline(0, color='black', lw=0.5)\n",
        "    ax.axvline(0, color='black', lw=0.5)\n",
        "    ref_symbols = get_qam_ref_symbols(order)\n",
        "    lim_val = np.max(np.abs(ref_symbols)) * 1.5\n",
        "    ax.set_xlim(-lim_val, lim_val)\n",
        "    ax.set_ylim(-lim_val, lim_val)\n",
        "    st.pyplot(fig)\n",
        "\n",
        "def get_qam_symbols(N, order):\n",
        "    bits_per_symbol = int(np.log2(order))\n",
        "    num_bits = N * bits_per_symbol\n",
        "    random_bits = np.random.randint(0, 2, num_bits)\n",
        "\n",
        "    symbols = []\n",
        "    if order == 4:\n",
        "        for i in range(0, num_bits, 2):\n",
        "            I = 2 * random_bits[i] - 1\n",
        "            Q = 2 * random_bits[i+1] - 1\n",
        "            symbols.append(I + 1j*Q)\n",
        "    elif order == 16:\n",
        "        for i in range(0, num_bits, 4):\n",
        "            I = 2 * (random_bits[i] * 2 + random_bits[i+1]) - 3\n",
        "            Q = 2 * (random_bits[i+2] * 2 + random_bits[i+3]) - 3\n",
        "            symbols.append(I + 1j*Q)\n",
        "\n",
        "    ref_symbols = get_qam_ref_symbols(order)\n",
        "    norm_factor = np.sqrt(np.mean(np.abs(ref_symbols)**2))\n",
        "    return np.array(symbols) / norm_factor\n",
        "\n",
        "def get_qam_ref_symbols(order):\n",
        "    if order == 4:\n",
        "        return np.array([i + 1j*q for i in [-1, 1] for q in [-1, 1]])\n",
        "    elif order == 16:\n",
        "        return np.array([i + 1j*q for i in [-3, -1, 1, 3] for q in [-3, -1, 1, 3]])\n",
        "    return np.array([])\n",
        "\n",
        "\n",
        "# --- BARRA LATERAL DE CONTROLES ---\n",
        "st.sidebar.title(\"🛠️ Parámetros de Simulación\")\n",
        "st.sidebar.markdown(\"Ajuste los parámetros para ver cómo afectan a la señal en cada etapa.\")\n",
        "\n",
        "st.sidebar.header(\"Fase 1: Dominio de la Frecuencia\")\n",
        "fs = st.sidebar.slider(\"Frecuencia de Muestreo (Hz)\", 1000, 10000, 5000)\n",
        "f0 = st.sidebar.slider(\"Frecuencia de la Señal (Hz)\", 10, fs//10, 100)\n",
        "cutoff_freq = st.sidebar.slider(\"Frecuencia de Corte del Filtro (Hz)\", 10, fs//4, 250)\n",
        "\n",
        "st.sidebar.header(\"Fase 3 y 4: Modulación QAM\")\n",
        "qam_order = st.sidebar.select_slider(\"Orden de QAM\", options=[4, 16], value=16)\n",
        "carrier_freq = st.sidebar.slider(\"Frecuencia Portadora (Hz)\", fs//8, fs//2 -100, 1000)\n",
        "snr_db = st.sidebar.slider(\"Relación Señal-Ruido (SNR) (dB)\", -5, 30, 15)\n",
        "\n",
        "# --- DEFINICIÓN DE PARÁMETROS DE TIEMPO ---\n",
        "num_symbols = 256\n",
        "samples_per_symbol = 20\n",
        "N = num_symbols * samples_per_symbol\n",
        "duration = N / fs\n",
        "t = np.linspace(0, duration, N, endpoint=False)\n",
        "numtaps_filter = 101 # Orden para todos los filtros FIR\n",
        "\n",
        "\n",
        "# --- CUERPO PRINCIPAL DEL DASHBOARD ---\n",
        "st.title(\"📡 De Fourier al WiFi/5G: Anatomía de una Señal Inalámbrica\")\n",
        "st.markdown(\"Este dashboard interactivo descompone los principios de una transmisión inalámbrica moderna, tal como se describe en el proyecto final del curso. Aquí puedes visualizar y experimentar con los conceptos clave, desde el análisis espectral hasta la modulación y demodulación QAM.\")\n",
        "\n",
        "# --- FASE 1: EL DOMINIO DE LA FRECUENCIA ---\n",
        "st.header(\"Fase 1: El Dominio de la Frecuencia 📊\")\n",
        "st.markdown(\"Generamos una señal, la analizamos con la FFT para ver su contenido en frecuencia y luego la filtramos para eliminar componentes no deseadas.\")\n",
        "col1, col2 = st.columns(2)\n",
        "with col1:\n",
        "    st.subheader(\"1.1. Señal Original y su Espectro\")\n",
        "    signal = np.cos(2 * np.pi * f0 * t) + 0.5 * np.sin(2 * np.pi * f0 * 3.5 * t)\n",
        "    plot_signal(t[:int(fs*0.05)], signal[:int(fs*0.05)], f\"Señal Sintética en Tiempo (f₀ = {f0} Hz)\")\n",
        "with col2:\n",
        "    st.subheader(\"1.2. Aplicando la FFT\")\n",
        "    plot_spectrum(signal, fs, \"Espectro de la Señal Original\")\n",
        "st.subheader(\"1.3. Diseño y Aplicación de Filtro Paso-Bajo\")\n",
        "fir_coeff = firwin(numtaps_filter, cutoff_freq, fs=fs, window='hamming', pass_zero='lowpass')\n",
        "filtered_signal = lfilter(fir_coeff, 1.0, signal)\n",
        "col3, col4 = st.columns(2)\n",
        "with col3:\n",
        "    plot_signal(t[:int(fs*0.05)], filtered_signal[:int(fs*0.05)], f\"Señal Filtrada (Corte a {cutoff_freq} Hz)\")\n",
        "with col4:\n",
        "    plot_spectrum(filtered_signal, fs, \"Espectro de la Señal Filtrada\")\n",
        "\n",
        "# --- FASE 2: CONSTRUYENDO LAS SEÑALES I/Q ---\n",
        "st.header(\"Fase 2: Construyendo las Señales I/Q (Fase y Cuadratura) 🧬\")\n",
        "st.markdown(\"Usamos la Transformada de Hilbert sobre una señal mensaje (I) para generar su componente en cuadratura (Q), que está desfasada 90°.\")\n",
        "analytic_signal = hilbert(filtered_signal)\n",
        "signal_I = np.real(analytic_signal)\n",
        "signal_Q = np.imag(analytic_signal)\n",
        "col5, col6 = st.columns(2)\n",
        "with col5:\n",
        "    st.subheader(\"Señal en Fase (I) vs. Cuadratura (Q)\")\n",
        "    fig, ax = plt.subplots(figsize=(10, 4))\n",
        "    ax.plot(t[:200], signal_I[:200], label=\"Señal en Fase (I)\")\n",
        "    ax.plot(t[:200], signal_Q[:200], label=\"Señal en Cuadratura (Q)\", linestyle='--')\n",
        "    ax.set_title(\"Comparación de I(t) y Q(t) mostrando desfase\", fontsize=16)\n",
        "    ax.set_xlabel(\"Tiempo (s)\", fontsize=12)\n",
        "    ax.set_ylabel(\"Amplitud\", fontsize=12)\n",
        "    ax.legend()\n",
        "    ax.grid(True)\n",
        "    ax.margins(x=0)\n",
        "    st.pyplot(fig)\n",
        "with col6:\n",
        "    st.subheader(\"Espectro de la Señal Analítica\")\n",
        "    plot_spectrum(analytic_signal, fs, \"Espectro de la Señal Analítica (Hilbert)\")\n",
        "\n",
        "# --- FASE 3: MODULACIÓN QAM ---\n",
        "st.header(\"Fase 3: Modulación de Amplitud en Cuadratura (QAM) 🛰️\")\n",
        "st.markdown(\"Mapeamos bits de información a símbolos complejos (I/Q) y los modulamos sobre una portadora para ser enviados por el aire.\")\n",
        "symbols = get_qam_symbols(num_symbols, qam_order)\n",
        "ref_symbols = get_qam_ref_symbols(qam_order)\n",
        "col7, col8 = st.columns([1, 2])\n",
        "with col7:\n",
        "    st.subheader(f\"Constelación {qam_order}-QAM Ideal\")\n",
        "    plot_constellation(ref_symbols, f\"Diagrama de {qam_order}-QAM Ideal\", qam_order)\n",
        "with col8:\n",
        "    st.subheader(\"Señal Modulada QAM\")\n",
        "    symbols_upsampled = np.zeros(N, dtype=complex)\n",
        "    symbols_upsampled[::samples_per_symbol] = symbols\n",
        "    pulse = np.ones(samples_per_symbol)\n",
        "    baseband_signal = lfilter(pulse, 1.0, symbols_upsampled)\n",
        "    carrier_signal = np.exp(1j * 2 * np.pi * carrier_freq * t)\n",
        "    qam_modulated_signal = np.real(baseband_signal * carrier_signal)\n",
        "    plot_signal(t[:400], qam_modulated_signal[:400], f\"Señal Modulada ({qam_order}-QAM) en el Tiempo\")\n",
        "    plot_spectrum(qam_modulated_signal, fs, f\"Espectro de la Señal Modulada ({qam_order}-QAM)\")\n",
        "\n",
        "# --- FASE 4: EL SISTEMA COMPLETO Y CORREGIDO ---\n",
        "st.header(\"Fase 4: Sistema Completo con Ruido y Demodulación 📡➡️💻\")\n",
        "st.markdown(\"Simulamos un canal de comunicación añadiendo Ruido Gaussiano Blanco Aditivo (AWGN) y observamos cómo afecta a la constelación en el receptor.\")\n",
        "signal_power = np.mean(np.abs(qam_modulated_signal)**2)\n",
        "snr_linear = 10**(snr_db / 10)\n",
        "noise_power = signal_power / snr_linear\n",
        "noise = np.random.normal(0, np.sqrt(noise_power), N)\n",
        "received_signal = qam_modulated_signal + noise\n",
        "\n",
        "# --- LÓGICA DE DEMODULACIÓN CORREGIDA ---\n",
        "# 1. Bajar la señal a banda base\n",
        "demod_signal_raw = received_signal * 2 * np.exp(-1j * 2 * np.pi * carrier_freq * t)\n",
        "\n",
        "# 2. Aplicar filtro paso-bajo para eliminar armónicos\n",
        "demod_filter_cutoff = fs / samples_per_symbol\n",
        "fir_coeff_demod = firwin(numtaps_filter, cutoff=demod_filter_cutoff, fs=fs)\n",
        "demod_signal_filtered = lfilter(fir_coeff_demod, 1.0, demod_signal_raw)\n",
        "\n",
        "# 3. **COMPENSAR EL RETARDO DEL FILTRO Y MUESTREAR **\n",
        "delay = (numtaps_filter - 1) // 2\n",
        "# Creamos los instantes de muestreo, comenzando a la mitad del primer símbolo\n",
        "sampling_instants = np.arange(samples_per_symbol//2, N, samples_per_symbol)\n",
        "# Ajustamos los instantes para compensar el retardo del filtro\n",
        "sampling_instants_delayed = sampling_instants - delay\n",
        "# Tomamos solo los instantes válidos (mayores o iguales a cero)\n",
        "valid_instants = sampling_instants_delayed[sampling_instants_delayed >= 0].astype(int)\n",
        "received_symbols = demod_signal_filtered[valid_instants]\n",
        "\n",
        "\n",
        "col9, col10 = st.columns(2)\n",
        "with col9:\n",
        "    st.subheader(\"Señal Recibida con Ruido\")\n",
        "    plot_signal(t[:400], received_signal[:400], f\"Señal Recibida (SNR = {snr_db} dB)\")\n",
        "with col10:\n",
        "    st.subheader(\"Constelación en el Receptor (Corregida)\")\n",
        "    plot_constellation(received_symbols, f\"Constelación Recibida (SNR = {snr_db} dB)\", qam_order)\n",
        "\n",
        "# --- FIN ---\n",
        "st.info(\"Proyecto Final - Señales y Sistemas 2025\")"
      ],
      "metadata": {
        "colab": {
          "base_uri": "https://localhost:8080/"
        },
        "id": "MJJH073oK36Z",
        "outputId": "68d8b08c-fdc1-4eaa-ac1e-999890add74c"
      },
      "execution_count": null,
      "outputs": [
        {
          "output_type": "stream",
          "name": "stdout",
          "text": [
            "Overwriting app.py\n"
          ]
        }
      ]
    },
    {
      "cell_type": "code",
      "source": [
        "# Pega tu authtoken de ngrok aquí\n",
        "!ngrok config add-authtoken '2zLBw00gDbYx9vnFZneHVhwzE62_UptNrhkYSDvxyYsuhwng'"
      ],
      "metadata": {
        "colab": {
          "base_uri": "https://localhost:8080/"
        },
        "id": "mLKgGtFhMGzv",
        "outputId": "6ef58829-f7b5-4579-c3e5-78cbcf4a7d68"
      },
      "execution_count": null,
      "outputs": [
        {
          "output_type": "stream",
          "name": "stdout",
          "text": [
            "Authtoken saved to configuration file: /root/.config/ngrok/ngrok.yml\n"
          ]
        }
      ]
    },
    {
      "cell_type": "code",
      "source": [
        "from pyngrok import ngrok\n",
        "\n",
        "# Ejecutar streamlit en segundo plano y silenciar su salida\n",
        "!streamlit run app.py &> /dev/null &\n",
        "\n",
        "# Crear el túnel con ngrok e imprimir la URL pública\n",
        "public_url = ngrok.connect(8501)\n",
        "print(f\"Haga clic en este enlace para abrir el dashboard: {public_url}\")"
      ],
      "metadata": {
        "colab": {
          "base_uri": "https://localhost:8080/"
        },
        "id": "p8TjTHHHK_mJ",
        "outputId": "b77820c2-ff5b-4db7-e85e-8123636538e6"
      },
      "execution_count": null,
      "outputs": [
        {
          "output_type": "stream",
          "name": "stdout",
          "text": [
            "Haga clic en este enlace para abrir el dashboard: NgrokTunnel: \"https://fba58a066907.ngrok-free.app\" -> \"http://localhost:8501\"\n"
          ]
        }
      ]
    }
  ]
}